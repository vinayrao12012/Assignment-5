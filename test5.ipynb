{
 "cells": [
  {
   "cell_type": "markdown",
   "id": "7d0aacc5-25f7-47ea-807b-715d78754d9a",
   "metadata": {},
   "source": [
    "## Q1"
   ]
  },
  {
   "cell_type": "markdown",
   "id": "87f32d31-309d-4e09-a62f-032c14daaa92",
   "metadata": {},
   "source": [
    "1. class - A class is a user defined data type that contains both the data itself and the method that is used to manipulate it. A class is a blueprint for creating objects.\n",
    "\n",
    "2. objects - An object is an instance of a class."
   ]
  },
  {
   "cell_type": "code",
   "execution_count": 2,
   "id": "04bc0c51-e036-4677-9e74-4702134ab5fa",
   "metadata": {},
   "outputs": [],
   "source": [
    "class student:\n",
    "    def __init__(self,name,roll_no,branch):\n",
    "        self.name = name\n",
    "        self.roll_no = roll_no\n",
    "        self.branch = branch"
   ]
  },
  {
   "cell_type": "code",
   "execution_count": 4,
   "id": "58b9c451-9018-4bd0-b76a-451c1dd652d5",
   "metadata": {},
   "outputs": [],
   "source": [
    "st1 = student(\"Sanu\",124,\"CSE\")"
   ]
  },
  {
   "cell_type": "code",
   "execution_count": 5,
   "id": "0c94c48c-a0a8-43f5-a3b2-0c610a4f6341",
   "metadata": {},
   "outputs": [
    {
     "data": {
      "text/plain": [
       "'Sanu'"
      ]
     },
     "execution_count": 5,
     "metadata": {},
     "output_type": "execute_result"
    }
   ],
   "source": [
    "st1.name"
   ]
  },
  {
   "cell_type": "code",
   "execution_count": 6,
   "id": "146a2763-875c-4936-bd22-3707da847ab8",
   "metadata": {},
   "outputs": [
    {
     "data": {
      "text/plain": [
       "'CSE'"
      ]
     },
     "execution_count": 6,
     "metadata": {},
     "output_type": "execute_result"
    }
   ],
   "source": [
    "st1.branch"
   ]
  },
  {
   "cell_type": "markdown",
   "id": "4a33ab44-ea82-460d-a599-20854f0a9c6b",
   "metadata": {},
   "source": [
    "## Q2"
   ]
  },
  {
   "cell_type": "markdown",
   "id": "325075ec-dd8a-4ba1-8681-8504f947a588",
   "metadata": {},
   "source": [
    "The Four pillars of object oriented progamming\n",
    "1. Polymorphism\n",
    "2. Encapsulation\n",
    "3. Inheritance\n",
    "4. Abstraction\n"
   ]
  },
  {
   "cell_type": "markdown",
   "id": "42c98860-ad45-4863-a82b-656deb687d0a",
   "metadata": {},
   "source": [
    "## Q3"
   ]
  },
  {
   "cell_type": "markdown",
   "id": "c0f4b0b8-9702-4a83-ad2d-991eeff350c1",
   "metadata": {},
   "source": [
    "The init() function is used as a constructor whenever an object is created it is used to initialize the object’s attributes."
   ]
  },
  {
   "cell_type": "code",
   "execution_count": 26,
   "id": "6729cc45-e82d-4f86-b8a4-d1fc1e0be3d6",
   "metadata": {},
   "outputs": [],
   "source": [
    "class Employee:\n",
    "    def __init__(self,name,emp_id):\n",
    "        self.name = name\n",
    "        self.emp_id = emp_id\n",
    "        \n",
    "    def __str__(self):\n",
    "        return f'Employee name is {self.name} and id is {self.emp_id}'"
   ]
  },
  {
   "cell_type": "code",
   "execution_count": 27,
   "id": "5e5044ec-e186-4f8b-abee-ed8dcf544690",
   "metadata": {},
   "outputs": [
    {
     "name": "stdout",
     "output_type": "stream",
     "text": [
      "Employee name is Vinay and id is 100\n"
     ]
    }
   ],
   "source": [
    "emp1 = Employee(\"Vinay\",100)\n",
    "print(emp1)"
   ]
  },
  {
   "cell_type": "markdown",
   "id": "6964931b-6f5b-49bd-8c6f-2a11af6a029a",
   "metadata": {},
   "source": [
    "## Q4"
   ]
  },
  {
   "cell_type": "markdown",
   "id": "bfe57300-37ca-4ba9-989b-2cdeaede8fec",
   "metadata": {},
   "source": [
    "Self represents the instance / object of the class. By using the self we can access the attributes and methods of the class."
   ]
  },
  {
   "cell_type": "markdown",
   "id": "77e208bf-79e2-47f1-acf7-45af968c951d",
   "metadata": {},
   "source": [
    "## Q5"
   ]
  },
  {
   "cell_type": "markdown",
   "id": "1ad2429f-1d8f-41e3-a949-96a28e3869c9",
   "metadata": {},
   "source": [
    "Inheritance: Inheritance allows you to inherit the properties of the class."
   ]
  },
  {
   "cell_type": "markdown",
   "id": "9d1d24fc-ba17-43c1-9bcd-a97276454c5c",
   "metadata": {},
   "source": [
    "##### Single Level Inheritance"
   ]
  },
  {
   "cell_type": "code",
   "execution_count": 36,
   "id": "ef948e93-10a5-420e-a5f2-386b37830e99",
   "metadata": {},
   "outputs": [],
   "source": [
    "class Parent:\n",
    "    def func(self):\n",
    "        print(\"THis is parent function.\")\n",
    "        \n",
    "class Child(Parent):\n",
    "    def func1(self):\n",
    "        print(\"This is child function.\")"
   ]
  },
  {
   "cell_type": "code",
   "execution_count": 33,
   "id": "8ade6f73-53a2-4789-90f3-91a8281644fc",
   "metadata": {},
   "outputs": [],
   "source": [
    "ch1 = Child()"
   ]
  },
  {
   "cell_type": "code",
   "execution_count": 34,
   "id": "010b23cc-158f-490e-a15b-097cdf4e9801",
   "metadata": {},
   "outputs": [
    {
     "name": "stdout",
     "output_type": "stream",
     "text": [
      "This is child function.\n"
     ]
    }
   ],
   "source": [
    "ch1.func1()"
   ]
  },
  {
   "cell_type": "code",
   "execution_count": 35,
   "id": "4ccd017d-7cc4-469e-a747-fe92abbbd833",
   "metadata": {},
   "outputs": [
    {
     "name": "stdout",
     "output_type": "stream",
     "text": [
      "THis is parent function.\n"
     ]
    }
   ],
   "source": [
    "ch1.func()"
   ]
  },
  {
   "cell_type": "markdown",
   "id": "834141f7-dca0-4fb5-bcff-9cb0bea3e788",
   "metadata": {},
   "source": [
    "##### Multilevel Inheritance"
   ]
  },
  {
   "cell_type": "code",
   "execution_count": 46,
   "id": "4bca7b69-c788-4463-afa7-4d3e91e61ba2",
   "metadata": {},
   "outputs": [],
   "source": [
    "class A:\n",
    "    def func(self):\n",
    "        print(\"This is a function of class A\")\n",
    "        \n",
    "class B(A):\n",
    "    def func1(self):\n",
    "        print(\"This is a function of class B\")\n",
    "\n",
    "class C(B):\n",
    "    def func2(self):\n",
    "        print(\"This is a function of class C\")\n",
    "        "
   ]
  },
  {
   "cell_type": "code",
   "execution_count": 47,
   "id": "389a46ab-08c0-4e5d-b38e-1773fce692ce",
   "metadata": {},
   "outputs": [
    {
     "name": "stdout",
     "output_type": "stream",
     "text": [
      "This is a function of class C\n"
     ]
    }
   ],
   "source": [
    "obj1 = C()\n",
    "obj1.func2()"
   ]
  },
  {
   "cell_type": "code",
   "execution_count": 48,
   "id": "318f157d-5db6-423c-93bc-d752e21d7e36",
   "metadata": {},
   "outputs": [
    {
     "name": "stdout",
     "output_type": "stream",
     "text": [
      "This is a function of class B\n"
     ]
    }
   ],
   "source": [
    "obj1.func1()"
   ]
  },
  {
   "cell_type": "code",
   "execution_count": 49,
   "id": "d916df8c-427d-4350-bfe3-a0b6e3472dd4",
   "metadata": {},
   "outputs": [
    {
     "name": "stdout",
     "output_type": "stream",
     "text": [
      "This is a function of class A\n"
     ]
    }
   ],
   "source": [
    "obj1.func()"
   ]
  },
  {
   "cell_type": "code",
   "execution_count": null,
   "id": "8ceb5d48-0b00-4278-8f1d-8690cd142f33",
   "metadata": {},
   "outputs": [],
   "source": []
  }
 ],
 "metadata": {
  "kernelspec": {
   "display_name": "Python 3 (ipykernel)",
   "language": "python",
   "name": "python3"
  },
  "language_info": {
   "codemirror_mode": {
    "name": "ipython",
    "version": 3
   },
   "file_extension": ".py",
   "mimetype": "text/x-python",
   "name": "python",
   "nbconvert_exporter": "python",
   "pygments_lexer": "ipython3",
   "version": "3.10.8"
  }
 },
 "nbformat": 4,
 "nbformat_minor": 5
}
